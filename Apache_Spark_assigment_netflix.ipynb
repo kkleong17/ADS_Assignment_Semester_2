{
  "nbformat": 4,
  "nbformat_minor": 0,
  "metadata": {
    "colab": {
      "provenance": [],
      "collapsed_sections": []
    },
    "kernelspec": {
      "name": "python3",
      "display_name": "Python 3"
    },
    "language_info": {
      "name": "python"
    }
  },
  "cells": [
    {
      "cell_type": "markdown",
      "source": [
        "# ADS2 - Assignment 1 - Data Handling and Preparation\n",
        "\n",
        "In this assignment, you will be analysing the popularity of films and TV shows on the streaming platform, Netflix. Using your knowledge of PySpark DataFrames and Spark SQL, you will produce a number of \"downstream\" data products to analyse trends in global streaming habits.\n",
        "\n",
        "Download the dataset from this [Kaggle](https://www.kaggle.com/dhruvildave/netflix-top-10-tv-shows-and-films) page. A copy of the `all_weeks_countries.csv` file is also available on the canvas page for this assignment.\n",
        "\n",
        "Your task is to load in the data and produce a number of \"downstream\" data products and plots as described below.\n",
        "\n",
        "The PySpark installation and setup is provided below for conveinience."
      ],
      "metadata": {
        "id": "ViQdeQ5m1E2Z"
      }
    },
    {
      "cell_type": "code",
      "execution_count": null,
      "metadata": {
        "id": "5lb-Z7ZM8O3s"
      },
      "outputs": [],
      "source": [
        "# Apache Spark uses Java, so first we must install that\n",
        "!apt-get install openjdk-8-jdk-headless -qq > /dev/null"
      ]
    },
    {
      "cell_type": "code",
      "source": [
        "# Download and unpack the latest version of Spark (3.2.0 as of writing)\n",
        "!wget -q https://archive.apache.org/dist/spark/spark-3.2.0/spark-3.2.0-bin-hadoop3.2.tgz\n",
        "!tar xf spark-3.2.0-bin-hadoop3.2.tgz"
      ],
      "metadata": {
        "id": "ixa72o938SKP"
      },
      "execution_count": null,
      "outputs": []
    },
    {
      "cell_type": "code",
      "source": [
        "# Set up environment variables\n",
        "import os\n",
        "os.environ[\"JAVA_HOME\"] = \"/usr/lib/jvm/java-8-openjdk-amd64\"\n",
        "os.environ[\"SPARK_HOME\"] = \"/content/spark-3.2.0-bin-hadoop3.2\""
      ],
      "metadata": {
        "id": "yWT7_XiQ8V6u"
      },
      "execution_count": null,
      "outputs": []
    },
    {
      "cell_type": "code",
      "source": [
        "# Install findspark, which helps python locate the psyspark module files\n",
        "!pip install -q findspark\n",
        "import findspark\n",
        "findspark.init()"
      ],
      "metadata": {
        "id": "UPSvq-aj8Z_k"
      },
      "execution_count": null,
      "outputs": []
    },
    {
      "cell_type": "code",
      "source": [
        "# Finally, we initialse a \"SparkSession\", which handles the computations\n",
        "from pyspark.sql import SparkSession\n",
        "spark = SparkSession.builder\\\n",
        "        .master(\"local\")\\\n",
        "        .appName(\"Colab\")\\\n",
        "        .config('spark.ui.port', '4050')\\\n",
        "        .getOrCreate()"
      ],
      "metadata": {
        "id": "kXT8Q_IO8cVe"
      },
      "execution_count": null,
      "outputs": []
    },
    {
      "cell_type": "markdown",
      "source": [
        "# Exercise 1 - Data Preparation (5 Marks)\n",
        "\n",
        "\n",
        "1.   Load the `all_weeks_countries.csv` into your Colab Notebook as a DataFrame.\n",
        "2.   Create two separate DataFrames for Films and TV.\n",
        "3.   For the Films data, drop the column containing the season names.\n",
        "4.   For the TV data, replace any null values in the season name column with the show name."
      ],
      "metadata": {
        "id": "yfW6RnY_GZpE"
      }
    },
    {
      "cell_type": "code",
      "source": [
        "# pyspark.sql.functions countains all the transformations and actions you will\n",
        "# need\n",
        "from pyspark.sql import functions as F"
      ],
      "metadata": {
        "id": "adZdlbyGL7Mj"
      },
      "execution_count": null,
      "outputs": []
    },
    {
      "cell_type": "code",
      "source": [
        "### Load the all_weeks_countries.csv into your Colab Notebook as a DataFrame.\n",
        "usersCsvPath = \"/content/sample_data/all-weeks-countries.csv\"\n",
        "\n",
        "NetflixDF = (spark\n",
        "             .read\n",
        "             .option('header', True)\n",
        "             .option('inferSchema', True)\n",
        "             .csv(usersCsvPath))"
      ],
      "metadata": {
        "id": "I7PS8iZgqwjt"
      },
      "execution_count": null,
      "outputs": []
    },
    {
      "cell_type": "code",
      "source": [
        "### Display the table and its schema\n",
        "NetflixDF.show(5)\n",
        "NetflixDF.printSchema()"
      ],
      "metadata": {
        "id": "aOKWP2lgu7p4",
        "colab": {
          "base_uri": "https://localhost:8080/"
        },
        "outputId": "43040d0d-8de4-4161-ef66-20049d01bcb0"
      },
      "execution_count": null,
      "outputs": [
        {
          "output_type": "stream",
          "name": "stdout",
          "text": [
            "+------------+------------+----------+--------+-----------+--------------------+------------+--------------------------+\n",
            "|country_name|country_iso2|      week|category|weekly_rank|          show_title|season_title|cumulative_weeks_in_top_10|\n",
            "+------------+------------+----------+--------+-----------+--------------------+------------+--------------------------+\n",
            "|   Argentina|          AR|2022-03-06|   Films|          1|      Chernobyl 1986|        null|                         2|\n",
            "|   Argentina|          AR|2022-03-06|   Films|          2|    The Weekend Away|        null|                         1|\n",
            "|   Argentina|          AR|2022-03-06|   Films|          3|     Against The Ice|        null|                         1|\n",
            "|   Argentina|          AR|2022-03-06|   Films|          4|            Restless|        null|                         2|\n",
            "|   Argentina|          AR|2022-03-06|   Films|          5|Spider-Man: Into ...|        null|                         1|\n",
            "+------------+------------+----------+--------+-----------+--------------------+------------+--------------------------+\n",
            "only showing top 5 rows\n",
            "\n",
            "root\n",
            " |-- country_name: string (nullable = true)\n",
            " |-- country_iso2: string (nullable = true)\n",
            " |-- week: string (nullable = true)\n",
            " |-- category: string (nullable = true)\n",
            " |-- weekly_rank: integer (nullable = true)\n",
            " |-- show_title: string (nullable = true)\n",
            " |-- season_title: string (nullable = true)\n",
            " |-- cumulative_weeks_in_top_10: integer (nullable = true)\n",
            "\n"
          ]
        }
      ]
    },
    {
      "cell_type": "code",
      "source": [
        "### Seperate the data into two DataFrames for Films and TV\n",
        "from pyspark.sql.functions import col\n",
        "Netflix_films = NetflixDF.filter(col('category') == \"Films\") # Films dataframe\n",
        "Netflix_TV = NetflixDF.filter(col('category') == \"TV\") # TV dataframe\n",
        "Netflix_films.show(5)\n",
        "Netflix_TV.show(5)"
      ],
      "metadata": {
        "id": "7Tswrm6ERoYR",
        "colab": {
          "base_uri": "https://localhost:8080/"
        },
        "outputId": "e53e5a34-76ce-490b-d27d-21ff61a2bf2f"
      },
      "execution_count": null,
      "outputs": [
        {
          "output_type": "stream",
          "name": "stdout",
          "text": [
            "+------------+------------+----------+--------+-----------+--------------------+------------+--------------------------+\n",
            "|country_name|country_iso2|      week|category|weekly_rank|          show_title|season_title|cumulative_weeks_in_top_10|\n",
            "+------------+------------+----------+--------+-----------+--------------------+------------+--------------------------+\n",
            "|   Argentina|          AR|2022-03-06|   Films|          1|      Chernobyl 1986|        null|                         2|\n",
            "|   Argentina|          AR|2022-03-06|   Films|          2|    The Weekend Away|        null|                         1|\n",
            "|   Argentina|          AR|2022-03-06|   Films|          3|     Against The Ice|        null|                         1|\n",
            "|   Argentina|          AR|2022-03-06|   Films|          4|            Restless|        null|                         2|\n",
            "|   Argentina|          AR|2022-03-06|   Films|          5|Spider-Man: Into ...|        null|                         1|\n",
            "+------------+------------+----------+--------+-----------+--------------------+------------+--------------------------+\n",
            "only showing top 5 rows\n",
            "\n",
            "+------------+------------+----------+--------+-----------+--------------------+--------------------+--------------------------+\n",
            "|country_name|country_iso2|      week|category|weekly_rank|          show_title|        season_title|cumulative_weeks_in_top_10|\n",
            "+------------+------------+----------+--------+-----------+--------------------+--------------------+--------------------------+\n",
            "|   Argentina|          AR|2022-03-06|      TV|          1|Café con aroma de...|Café con aroma de...|                        10|\n",
            "|   Argentina|          AR|2022-03-06|      TV|          2|   Vikings: Valhalla|Vikings: Valhalla...|                         2|\n",
            "|   Argentina|          AR|2022-03-06|      TV|          3|      Inventing Anna|Inventing Anna: L...|                         4|\n",
            "|   Argentina|          AR|2022-03-06|      TV|          4|   The Queen of Flow|The Queen of Flow...|                        16|\n",
            "|   Argentina|          AR|2022-03-06|      TV|          5|       PIECES OF HER|PIECES OF HER: Se...|                         1|\n",
            "+------------+------------+----------+--------+-----------+--------------------+--------------------+--------------------------+\n",
            "only showing top 5 rows\n",
            "\n"
          ]
        }
      ]
    },
    {
      "cell_type": "code",
      "source": [
        "### Drop the 'season_title' column from the Films DataFrame, display the table\n",
        "\n",
        "Netflix_films = Netflix_films.drop(col('season_title'))\n",
        "Netflix_films.show()\n"
      ],
      "metadata": {
        "id": "l900Ys9CRuEX",
        "colab": {
          "base_uri": "https://localhost:8080/"
        },
        "outputId": "c2879782-f285-44bf-8721-71cd748bcd74"
      },
      "execution_count": null,
      "outputs": [
        {
          "output_type": "stream",
          "name": "stdout",
          "text": [
            "+------------+------------+----------+--------+-----------+--------------------+--------------------------+\n",
            "|country_name|country_iso2|      week|category|weekly_rank|          show_title|cumulative_weeks_in_top_10|\n",
            "+------------+------------+----------+--------+-----------+--------------------+--------------------------+\n",
            "|   Argentina|          AR|2022-03-06|   Films|          1|      Chernobyl 1986|                         2|\n",
            "|   Argentina|          AR|2022-03-06|   Films|          2|    The Weekend Away|                         1|\n",
            "|   Argentina|          AR|2022-03-06|   Films|          3|     Against The Ice|                         1|\n",
            "|   Argentina|          AR|2022-03-06|   Films|          4|            Restless|                         2|\n",
            "|   Argentina|          AR|2022-03-06|   Films|          5|Spider-Man: Into ...|                         1|\n",
            "|   Argentina|          AR|2022-03-06|   Films|          6|       Lost Paradise|                         2|\n",
            "|   Argentina|          AR|2022-03-06|   Films|          7|        Spider-Man 3|                         1|\n",
            "|   Argentina|          AR|2022-03-06|   Films|          8|The Pirates: The ...|                         1|\n",
            "|   Argentina|          AR|2022-03-06|   Films|          9| The Tinder Swindler|                         5|\n",
            "|   Argentina|          AR|2022-03-06|   Films|         10|          Abominable|                         3|\n",
            "|   Argentina|          AR|2022-02-27|   Films|          1|            Restless|                         1|\n",
            "|   Argentina|          AR|2022-02-27|   Films|          2|    Parallel Mothers|                         2|\n",
            "|   Argentina|          AR|2022-02-27|   Films|          3|       Lost Paradise|                         1|\n",
            "|   Argentina|          AR|2022-02-27|   Films|          4|          Abominable|                         2|\n",
            "|   Argentina|          AR|2022-02-27|   Films|          5| The Tinder Swindler|                         4|\n",
            "|   Argentina|          AR|2022-02-27|   Films|          6|Texas Chainsaw Ma...|                         2|\n",
            "|   Argentina|          AR|2022-02-27|   Films|          7|       Don't Kill Me|                         1|\n",
            "|   Argentina|          AR|2022-02-27|   Films|          8|Todos queremos a ...|                         1|\n",
            "|   Argentina|          AR|2022-02-27|   Films|          9|      Chernobyl 1986|                         1|\n",
            "|   Argentina|          AR|2022-02-27|   Films|         10|   Through My Window|                         4|\n",
            "+------------+------------+----------+--------+-----------+--------------------+--------------------------+\n",
            "only showing top 20 rows\n",
            "\n"
          ]
        }
      ]
    },
    {
      "cell_type": "code",
      "source": [
        "### Replace any null values in 'season_name' in the TV DataFrame with the\n",
        "### corresponding 'show_name', display the table\n",
        "\n",
        "from pyspark.sql.functions import coalesce\n",
        "    \n",
        "Netflix_TV = Netflix_TV.withColumn(\"season_title\",coalesce(Netflix_TV.season_title,Netflix_TV.show_title))\n",
        "Netflix_TV.show(truncate = False)"
      ],
      "metadata": {
        "id": "vOaMUa3-R4Ks",
        "colab": {
          "base_uri": "https://localhost:8080/"
        },
        "outputId": "2f2c75e6-4429-494a-f391-8e61cf65a7de"
      },
      "execution_count": null,
      "outputs": [
        {
          "output_type": "stream",
          "name": "stdout",
          "text": [
            "+------------+------------+----------+--------+-----------+-----------------------+---------------------------------+--------------------------+\n",
            "|country_name|country_iso2|week      |category|weekly_rank|show_title             |season_title                     |cumulative_weeks_in_top_10|\n",
            "+------------+------------+----------+--------+-----------+-----------------------+---------------------------------+--------------------------+\n",
            "|Argentina   |AR          |2022-03-06|TV      |1          |Café con aroma de mujer|Café con aroma de mujer: Season 1|10                        |\n",
            "|Argentina   |AR          |2022-03-06|TV      |2          |Vikings: Valhalla      |Vikings: Valhalla: Season 1      |2                         |\n",
            "|Argentina   |AR          |2022-03-06|TV      |3          |Inventing Anna         |Inventing Anna: Limited Series   |4                         |\n",
            "|Argentina   |AR          |2022-03-06|TV      |4          |The Queen of Flow      |The Queen of Flow: Season 2      |16                        |\n",
            "|Argentina   |AR          |2022-03-06|TV      |5          |PIECES OF HER          |PIECES OF HER: Season 1          |1                         |\n",
            "|Argentina   |AR          |2022-03-06|TV      |6          |Pasión de Gavilanes    |Pasión de Gavilanes: Season 1    |36                        |\n",
            "|Argentina   |AR          |2022-03-06|TV      |7          |Lies and Deceit        |Lies and Deceit: Season 1        |1                         |\n",
            "|Argentina   |AR          |2022-03-06|TV      |8          |One of Us Is Lying     |One of Us Is Lying: Season 1     |2                         |\n",
            "|Argentina   |AR          |2022-03-06|TV      |9          |All of Us Are Dead     |All of Us Are Dead: Season 1     |6                         |\n",
            "|Argentina   |AR          |2022-03-06|TV      |10         |Rebelde Way            |Rebelde Way: Temporada 1         |7                         |\n",
            "|Argentina   |AR          |2022-02-27|TV      |1          |Café con aroma de mujer|Café con aroma de mujer: Season 1|9                         |\n",
            "|Argentina   |AR          |2022-02-27|TV      |2          |Inventing Anna         |Inventing Anna: Limited Series   |3                         |\n",
            "|Argentina   |AR          |2022-02-27|TV      |3          |Vikings: Valhalla      |Vikings: Valhalla: Season 1      |1                         |\n",
            "|Argentina   |AR          |2022-02-27|TV      |4          |The Queen of Flow      |The Queen of Flow: Season 2      |15                        |\n",
            "|Argentina   |AR          |2022-02-27|TV      |5          |One of Us Is Lying     |One of Us Is Lying: Season 1     |1                         |\n",
            "|Argentina   |AR          |2022-02-27|TV      |6          |Pasión de Gavilanes    |Pasión de Gavilanes: Season 1    |35                        |\n",
            "|Argentina   |AR          |2022-02-27|TV      |7          |All of Us Are Dead     |All of Us Are Dead: Season 1     |5                         |\n",
            "|Argentina   |AR          |2022-02-27|TV      |8          |Rebelde Way            |Rebelde Way: Temporada 1         |6                         |\n",
            "|Argentina   |AR          |2022-02-27|TV      |9          |Toy Boy                |Toy Boy: Season 2                |2                         |\n",
            "|Argentina   |AR          |2022-02-27|TV      |10         |The Queen of Flow      |The Queen of Flow: Season 1      |17                        |\n",
            "+------------+------------+----------+--------+-----------+-----------------------+---------------------------------+--------------------------+\n",
            "only showing top 20 rows\n",
            "\n"
          ]
        }
      ]
    },
    {
      "cell_type": "markdown",
      "source": [
        "# Exercise 2 - Most popular seasons by country (15 Marks)\n",
        "\n",
        "1.   For each country in the data, find the highest rank each season of TV reached, and the number of weeks it spent in the top 10.\n",
        "2.   Produce a DataFrame that contains the season of TV which spent the most time in each country's top 10.\n",
        "3.   Produce a pie chart which shows how many countries the most popular seasons of TV occurred in. \n"
      ],
      "metadata": {
        "id": "rAHZm5_9IzTn"
      }
    },
    {
      "cell_type": "code",
      "source": [
        "### Group the data by 'country_name' and 'season_title' and find the highest\n",
        "### weekly rank and total weeks spent in the top 10 for each show, display the\n",
        "### data\n",
        "# .groupBy, .agg, F.max, F.min, .sort, .show\n",
        "Netflix_TV.groupBy('country_name','season_title') \\\n",
        "                  .agg(F.max('cumulative_weeks_in_top_10').alias('Max_weeks_in_Top_10'), \n",
        "                       F.min('weekly_rank').alias('highest_rank'))\\\n",
        "                  .sort('country_name').show(truncate = False)\n",
        "                                                      \n",
        "         "
      ],
      "metadata": {
        "id": "8SGNNEcOKLhX",
        "colab": {
          "base_uri": "https://localhost:8080/"
        },
        "outputId": "a3e90758-619c-446e-b57a-02660ebc2531"
      },
      "execution_count": null,
      "outputs": [
        {
          "output_type": "stream",
          "name": "stdout",
          "text": [
            "+------------+----------------------------------+-------------------+------------+\n",
            "|country_name|season_title                      |Max_weeks_in_Top_10|highest_rank|\n",
            "+------------+----------------------------------+-------------------+------------+\n",
            "|Argentina   |Dark Desire: Season 2             |3                  |4           |\n",
            "|Argentina   |The Queen of Flow: Season 1       |17                 |2           |\n",
            "|Argentina   |Luis Miguel - The Series: Season 3|3                  |1           |\n",
            "|Argentina   |Señora Acero: Season 2            |1                  |9           |\n",
            "|Argentina   |Ganglands: Season 1               |1                  |7           |\n",
            "|Argentina   |PIECES OF HER: Season 1           |1                  |5           |\n",
            "|Argentina   |Grey's Anatomy: Season 17         |4                  |3           |\n",
            "|Argentina   |Maid: Limited Series              |11                 |1           |\n",
            "|Argentina   |Elite: Season 4                   |3                  |3           |\n",
            "|Argentina   |Lost in Space: Season 3           |2                  |5           |\n",
            "|Argentina   |Sky Rojo: Season 2                |3                  |2           |\n",
            "|Argentina   |You: Season 3                     |7                  |1           |\n",
            "|Argentina   |The Kingdom: Season 1             |6                  |1           |\n",
            "|Argentina   |Where is Marta?: Limited Series   |1                  |10          |\n",
            "|Argentina   |Valeria: Season 2                 |2                  |3           |\n",
            "|Argentina   |Narcos: Mexico: Season 3          |2                  |3           |\n",
            "|Argentina   |Locke & Key: Season 2             |2                  |7           |\n",
            "|Argentina   |Vikings: Valhalla: Season 1       |2                  |2           |\n",
            "|Argentina   |The Queen of Flow: Season 2       |16                 |1           |\n",
            "|Argentina   |The Witcher: Season 1             |2                  |7           |\n",
            "+------------+----------------------------------+-------------------+------------+\n",
            "only showing top 20 rows\n",
            "\n"
          ]
        }
      ]
    },
    {
      "cell_type": "code",
      "source": [
        "### Find the season that spent the most time in each country's top 10 list.\n",
        "### Produce and display a table showing that information, along with the number\n",
        "### of weeks spent in the top 10, and the highest weekly ranking\n",
        "# .groupBy, .sort, .desc, .agg, F.first, .show\n",
        "Netflix_TV_temp =  Netflix_TV.groupBy('country_name','season_title') \\\n",
        "                  .agg(F.max('cumulative_weeks_in_top_10').alias('Max_weeks_in_Top_10'), \n",
        "                       F.min('weekly_rank').alias('highest_rank')).sort('country_name')\n",
        "\n",
        "Countries_season_list = Netflix_TV_temp.sort(col('country_name').asc(), col('max_weeks_in_top_10').desc()) \\\n",
        "                                .groupBy('country_name').agg(F.first('season_title').alias('season_title'),\n",
        "                                                             F.max('max_weeks_in_top_10').alias('cumulative_weeks_in_top_10'),\n",
        "                                                             F.first('highest_rank').alias('highest_rank'))\n",
        "          \n",
        "Countries_season_list.show(truncate = False)"
      ],
      "metadata": {
        "id": "KTkWmAhdWs4Y",
        "colab": {
          "base_uri": "https://localhost:8080/"
        },
        "outputId": "78eafc5a-cf5b-4d12-f48d-7f1c700a58a8"
      },
      "execution_count": null,
      "outputs": [
        {
          "output_type": "stream",
          "name": "stdout",
          "text": [
            "+------------------+-------------------------------+--------------------------+------------+\n",
            "|country_name      |season_title                   |cumulative_weeks_in_top_10|highest_rank|\n",
            "+------------------+-------------------------------+--------------------------+------------+\n",
            "|Argentina         |Pasión de Gavilanes: Season 1  |36                        |4           |\n",
            "|Australia         |Maid: Limited Series           |12                        |1           |\n",
            "|Austria           |Betty en NY: Season 1          |12                        |2           |\n",
            "|Bahamas           |SpongeBob SquarePants: Season 9|18                        |3           |\n",
            "|Bahrain           |Squid Game: Season 1           |16                        |1           |\n",
            "|Bangladesh        |Squid Game: Season 1           |22                        |1           |\n",
            "|Belgium           |Money Heist: Part 5            |12                        |1           |\n",
            "|Bolivia           |Yo soy Betty, la fea: Season 1 |36                        |1           |\n",
            "|Brazil            |Chiquititas                    |29                        |2           |\n",
            "|Bulgaria          |Squid Game: Season 1           |16                        |1           |\n",
            "|Canada            |Maid: Limited Series           |12                        |2           |\n",
            "|Chile             |Yo soy Betty, la fea: Season 1 |36                        |1           |\n",
            "|Colombia          |Yo soy Betty, la fea: Season 1 |36                        |3           |\n",
            "|Costa Rica        |Pasión de Gavilanes: Season 1  |36                        |2           |\n",
            "|Croatia           |Squid Game: Season 1           |15                        |1           |\n",
            "|Cyprus            |The Good Doctor: Season 4      |16                        |4           |\n",
            "|Czech Republic    |Money Heist: Part 1            |20                        |2           |\n",
            "|Denmark           |Squid Game: Season 1           |11                        |1           |\n",
            "|Dominican Republic|Pasión de Gavilanes: Season 1  |36                        |1           |\n",
            "|Ecuador           |Pasión de Gavilanes: Season 1  |36                        |1           |\n",
            "+------------------+-------------------------------+--------------------------+------------+\n",
            "only showing top 20 rows\n",
            "\n"
          ]
        }
      ]
    },
    {
      "cell_type": "code",
      "source": [
        "### Count the number of countries where each season spent the most time in the\n",
        "### weekly top 10 lists\n",
        "# .groupBy, .agg, F.count\n",
        "Countries_season_lists = Countries_season_list.groupby('season_title') \\\n",
        "                              .agg(F.count('country_name').alias('country_count'))\\\n",
        "                              .sort(col('country_count').desc())\n",
        "\n",
        "Countries_season_lists.show(truncate = False)       "
      ],
      "metadata": {
        "id": "VeaR2m8HenIY",
        "colab": {
          "base_uri": "https://localhost:8080/"
        },
        "outputId": "a277ae60-335f-4d58-d46b-a725248ab5e2"
      },
      "execution_count": null,
      "outputs": [
        {
          "output_type": "stream",
          "name": "stdout",
          "text": [
            "+------------------------------------------+-------------+\n",
            "|season_title                              |country_count|\n",
            "+------------------------------------------+-------------+\n",
            "|Squid Game: Season 1                      |24           |\n",
            "|Money Heist: Part 1                       |7            |\n",
            "|The Good Doctor: Season 1                 |7            |\n",
            "|Pasión de Gavilanes: Season 1             |7            |\n",
            "|Yo soy Betty, la fea: Season 1            |6            |\n",
            "|Maid: Limited Series                      |5            |\n",
            "|Money Heist: Part 5                       |4            |\n",
            "|The Queen of Flow: Season 1               |4            |\n",
            "|Hometown Cha-Cha-Cha: Season 1            |3            |\n",
            "|Pablo Escobar, el patrón del mal: Season 1|3            |\n",
            "|PAW Patrol: Season 6                      |3            |\n",
            "|SpongeBob SquarePants: Season 9           |2            |\n",
            "|Vincenzo: Season 1                        |2            |\n",
            "|Betty en NY: Season 1                     |2            |\n",
            "|The Queen of Flow: Season 2               |2            |\n",
            "|Crash Landing on You: Season 1            |2            |\n",
            "|Hospital Playlist: Season 2               |2            |\n",
            "|Carinha de Anjo: Season 1                 |1            |\n",
            "|CoComelon: Season 3                       |1            |\n",
            "|A Love to Last: Season 1                  |1            |\n",
            "+------------------------------------------+-------------+\n",
            "only showing top 20 rows\n",
            "\n"
          ]
        }
      ]
    },
    {
      "cell_type": "code",
      "source": [
        "### Convert the DataFrame to a Pandas DataFrame, and display it as a pie chart\n",
        "# .toPandas, .plot.pie\n",
        "Country_pd = Countries_season_lists.toPandas()\n",
        "country_pd = Country_pd.set_index('season_title')\n",
        "Country_pd.plot.pie(y = 'country_count', title = 'Season Popularity', legend = False)"
      ],
      "metadata": {
        "id": "fKidncPQ8uDD",
        "colab": {
          "base_uri": "https://localhost:8080/",
          "height": 282
        },
        "outputId": "2f2b7d72-8459-43e4-87cd-8ccfe2e5fb88"
      },
      "execution_count": null,
      "outputs": [
        {
          "output_type": "execute_result",
          "data": {
            "text/plain": [
              "<matplotlib.axes._subplots.AxesSubplot at 0x7f3465f91290>"
            ]
          },
          "metadata": {},
          "execution_count": 48
        },
        {
          "output_type": "display_data",
          "data": {
            "text/plain": [
              "<Figure size 432x288 with 1 Axes>"
            ],
            "image/png": "[encoded data removed]"
          },
          "metadata": {}
        }
      ]
    },
    {
      "cell_type": "markdown",
      "source": [
        "# Exercise 3 - Most popular shows by country (10 Marks)\n",
        "\n",
        "\n",
        "1.   Calculate the number of weeks each TV show spent in each country's top 10, across all seasons, such that you don't double count a show when two or more seasons appear in one week.\n",
        "2.   Produce a DataFrame that contains the show which spent the most time in each country's top 10."
      ],
      "metadata": {
        "id": "_YOKr4khadrB"
      }
    },
    {
      "cell_type": "code",
      "source": [
        "### Group the data by 'country_name' and 'show_title' and count the number of\n",
        "### weeks each show appears in each country's top 10 lists, as well as the\n",
        "### highest weekly ranking. Display the data.\n",
        "# .groupBy, .agg, F.count_distinct, F.min, .sort, .show\n",
        "Netflix_TV.groupBy('country_name', 'show_title')\\\n",
        "          .agg(F.count_distinct('cumulative_weeks_in_top_10').alias('Weeks_in_Top10'),\n",
        "               F.min('weekly_rank').alias('highest_rank'))\\\n",
        "          .sort('country_name').show()"
      ],
      "metadata": {
        "id": "T4KuEbwgbJar",
        "colab": {
          "base_uri": "https://localhost:8080/"
        },
        "outputId": "4865af12-a128-46c7-db8c-b81280c9f3d1"
      },
      "execution_count": null,
      "outputs": [
        {
          "output_type": "stream",
          "name": "stdout",
          "text": [
            "+------------+--------------------+--------------+------------+\n",
            "|country_name|          show_title|Weeks_in_Top10|highest_rank|\n",
            "+------------+--------------------+--------------+------------+\n",
            "|   Argentina|           Blindspot|             1|          10|\n",
            "|   Argentina|Pablo Escobar, el...|             5|           8|\n",
            "|   Argentina|          Archive 81|             1|           4|\n",
            "|   Argentina|           Ganglands|             1|           7|\n",
            "|   Argentina|             Lucifer|             3|           2|\n",
            "|   Argentina|  The Girl from Oslo|             2|           5|\n",
            "|   Argentina|Daughter From Ano...|             1|           7|\n",
            "|   Argentina|              Arcane|             3|           3|\n",
            "|   Argentina|Yo soy Betty, la fea|            21|           6|\n",
            "|   Argentina|             The 100|             2|           5|\n",
            "|   Argentina|            Sky Rojo|             3|           2|\n",
            "|   Argentina|           Cobra Kai|             4|           1|\n",
            "|   Argentina|  One of Us Is Lying|             2|           5|\n",
            "|   Argentina|           Control Z|             2|           8|\n",
            "|   Argentina|   The Queen of Flow|            17|           1|\n",
            "|   Argentina|            Atypical|             3|           4|\n",
            "|   Argentina|          PAW Patrol|             2|           7|\n",
            "|   Argentina|AlRawabi School f...|             2|           9|\n",
            "|   Argentina|           Hit & Run|             3|           3|\n",
            "|   Argentina|   Never Have I Ever|             2|           7|\n",
            "+------------+--------------------+--------------+------------+\n",
            "only showing top 20 rows\n",
            "\n"
          ]
        }
      ]
    },
    {
      "cell_type": "code",
      "source": [
        "### Find the show that spent the most time in each country's top 10 list.\n",
        "### Produce and display a table showing that information, along with the number\n",
        "### of weeks spent in the top 10, and the highest weekly ranking\n",
        "# .groupBy, .sort, .desc, .agg, F.first, .show\n",
        "\n",
        "Netflix_TV_temp =  Netflix_TV.groupBy('country_name','show_title') \\\n",
        "                  .agg(F.max('cumulative_weeks_in_top_10').alias('Max_weeks_in_Top_10'), \n",
        "                       F.min('weekly_rank').alias('highest_rank'))\\\n",
        "                  .sort('country_name')\n",
        "\n",
        "Countries_Show_list = Netflix_TV_temp.sort(col('country_name').asc(), col('max_weeks_in_top_10').desc()) \\\n",
        "                                     .groupBy('country_name').agg(F.first('show_title').alias('show_title'),\n",
        "                                                                  F.max('max_weeks_in_top_10').alias('cumulative_weeks_in_top_10'),\n",
        "                                                                  F.first('highest_rank').alias('highest_rank'))\n",
        "                              \n",
        "Countries_Show_list.show(truncate = False)"
      ],
      "metadata": {
        "id": "4QEhv-T7VofT",
        "colab": {
          "base_uri": "https://localhost:8080/"
        },
        "outputId": "c544251d-4c79-4673-eabf-01656342897d"
      },
      "execution_count": null,
      "outputs": [
        {
          "output_type": "stream",
          "name": "stdout",
          "text": [
            "+------------------+----------------------+--------------------------+------------+\n",
            "|country_name      |show_title            |cumulative_weeks_in_top_10|highest_rank|\n",
            "+------------------+----------------------+--------------------------+------------+\n",
            "|Argentina         |Pasión de Gavilanes   |36                        |4           |\n",
            "|Australia         |Animal Kingdom        |12                        |2           |\n",
            "|Austria           |Squid Game            |12                        |1           |\n",
            "|Bahamas           |SpongeBob SquarePants |18                        |3           |\n",
            "|Bahrain           |Squid Game            |16                        |1           |\n",
            "|Bangladesh        |Squid Game            |22                        |1           |\n",
            "|Belgium           |Money Heist           |12                        |1           |\n",
            "|Bolivia           |Yo soy Betty, la fea  |36                        |1           |\n",
            "|Brazil            |Chiquititas           |29                        |2           |\n",
            "|Bulgaria          |Squid Game            |16                        |1           |\n",
            "|Canada            |Maid                  |12                        |2           |\n",
            "|Chile             |Yo soy Betty, la fea  |36                        |1           |\n",
            "|Colombia          |Newly Rich, Newly Poor|36                        |1           |\n",
            "|Costa Rica        |Pasión de Gavilanes   |36                        |2           |\n",
            "|Croatia           |Squid Game            |15                        |1           |\n",
            "|Cyprus            |The Good Doctor       |16                        |1           |\n",
            "|Czech Republic    |Money Heist           |20                        |1           |\n",
            "|Denmark           |Squid Game            |11                        |1           |\n",
            "|Dominican Republic|Pasión de Gavilanes   |36                        |1           |\n",
            "|Ecuador           |Pasión de Gavilanes   |36                        |1           |\n",
            "+------------------+----------------------+--------------------------+------------+\n",
            "only showing top 20 rows\n",
            "\n"
          ]
        }
      ]
    },
    {
      "cell_type": "markdown",
      "source": [
        "# Exercise 4 - Movie popularity on Netflix (15 Marks)\n",
        "\n",
        "1.   Calculate, for each Film, the number of weeks it spent in each country's number 1 spot, top 10 lists, and the highest weekly rank.\n",
        "2.   Produce a Dataframe that, for each Film, contains:\n",
        "    * the highest rank reached worldwide\n",
        "    * the highest number of weeks it spent in a single country's top 10\n",
        "    * the highest number of weeks it spent in a single country's number 1 spot\n",
        "    * the mean number of weeks it spent in the top 10 lists worldwide\n",
        "    * the mean number of weeks it spent in the number 1 spot worldwide\n",
        "    * the number of countries where it reached the top 10\n",
        "    * the number of countries where it reached the number 1 spot"
      ],
      "metadata": {
        "id": "RnLHTgim9UGE"
      }
    },
    {
      "cell_type": "code",
      "source": [
        "### Find the highest weekly rank for each film in each country\n",
        "### Calculate the number of weeks each film spent in each country's top 10\n",
        "### Calculate the number of weeks each film spent at number 1 in each country\n",
        "### Produce a DataFrame grouped by 'country_name' and 'show_title' and display\n",
        "# F.min, F.count_distinct, F.when, .otherwise, .groupBy, .agg, .sort, .show\n",
        "from pyspark.sql import Window\n",
        "highest_rating = F.min('weekly_rank')\n",
        "n_weeks = F.count_distinct('cumulative_weeks_in_top_10').alias('No_of_weeks_in_top_10')\n",
        "max_weeks_at1 = F.when(highest_rating == 1, F.count_distinct('cumulative_weeks_in_top_10')).otherwise(0).alias('weeks_at_no1')\n",
        "    \n",
        "Films_country = Netflix_films.sort(col('weekly_rank').asc())\\\n",
        "                             .groupBy('country_name', 'show_title').agg(highest_rating,\n",
        "                                                                       n_weeks,\n",
        "                                                                       max_weeks_at1)\\\n",
        "                             .sort('country_name')\n",
        "\n",
        "Films_country.show(truncate = False)"
      ],
      "metadata": {
        "id": "uspu4EGZc1P3",
        "colab": {
          "base_uri": "https://localhost:8080/"
        },
        "outputId": "203a7411-a73c-48f3-9b32-92017e1362d7"
      },
      "execution_count": null,
      "outputs": [
        {
          "output_type": "stream",
          "name": "stdout",
          "text": [
            "+------------+--------------------------------+----------------+---------------------+------------+\n",
            "|country_name|show_title                      |min(weekly_rank)|No_of_weeks_in_top_10|weeks_at_no1|\n",
            "+------------+--------------------------------+----------------+---------------------+------------+\n",
            "|Argentina   |Hypnotic                        |3               |2                    |0           |\n",
            "|Argentina   |The Hand of God                 |7               |1                    |0           |\n",
            "|Argentina   |The Father Who Moves Mountains  |3               |2                    |0           |\n",
            "|Argentina   |He's All That                   |2               |3                    |0           |\n",
            "|Argentina   |My Father's Violin              |4               |1                    |0           |\n",
            "|Argentina   |Silver Skates                   |7               |1                    |0           |\n",
            "|Argentina   |The Forgotten Battle            |1               |3                    |3           |\n",
            "|Argentina   |Der Fall Collini                |6               |1                    |0           |\n",
            "|Argentina   |Trollhunters: Rise of the Titans|3               |1                    |0           |\n",
            "|Argentina   |Faster                          |10              |1                    |0           |\n",
            "|Argentina   |Thoroughbred                    |9               |1                    |0           |\n",
            "|Argentina   |No One Gets Out Alive           |4               |1                    |0           |\n",
            "|Argentina   |More the Merrier                |5               |1                    |0           |\n",
            "|Argentina   |Tall Girl 2                     |3               |2                    |0           |\n",
            "|Argentina   |The Starling                    |2               |2                    |0           |\n",
            "|Argentina   |Gran Torino                     |9               |1                    |0           |\n",
            "|Argentina   |Love Hard                       |2               |3                    |0           |\n",
            "|Argentina   |Invasion                        |4               |1                    |0           |\n",
            "|Argentina   |Schumacher                      |10              |2                    |0           |\n",
            "|Argentina   |The Transporter Refueled        |8               |1                    |0           |\n",
            "+------------+--------------------------------+----------------+---------------------+------------+\n",
            "only showing top 20 rows\n",
            "\n"
          ]
        }
      ]
    },
    {
      "cell_type": "code",
      "source": [
        "  ### Find the highest weekly rank reached worldwide for each film\n",
        "### Calculate the maximum and mean weeks each film was at number 1\n",
        "### Calculate the maximum and mean weeks each film was in the top 10\n",
        "### Count the countries where each film reached the top 10 and number 1\n",
        "### Produce a DataFrame grouped by 'show_title' and display\n",
        "# F.min, F.max, F.mean, F.count_distinct, F.when, .otherwise, .groupBy, .agg,\n",
        "# .sort, .show\n",
        "\n",
        "highest_rating = F.min('weekly_rank').alias('highest_rank')\n",
        "max_weeks = F.max('cumulative_weeks_in_top_10').alias('No_of_weeks_in_top10')\n",
        "mean_weeks = F.mean('cumulative_weeks_in_top_10').alias('mean_weeks_in_top10')\n",
        "max_weeks_at1 = F.when(highest_rating == 1, F.count_distinct('cumulative_weeks_in_top_10')).otherwise(0).alias('weeks_at_no1')\n",
        "mean_weeks_at1 = F.when(highest_rating == 1, F.mean('cumulative_weeks_in_top_10')).otherwise(0).alias('mean_weeks_at_no1')\n",
        "n_countries = F.when(highest_rating == 1, F.count_distinct('country_name')).otherwise(0).alias('n_country')\n",
        "\n",
        "Films_worldwide = Netflix_films.groupBy('show_title').agg(highest_rating,\n",
        "                                                          max_weeks,\n",
        "                                                          mean_weeks,\n",
        "                                                          max_weeks_at1, \n",
        "                                                          mean_weeks_at1,\n",
        "                                                          n_countries) \\\n",
        "                                .sort(col('show_title').asc())\n",
        "\n",
        "Films_worldwide.show(truncate = False)\n",
        "\n"
      ],
      "metadata": {
        "id": "7AUciKugdkQU",
        "colab": {
          "base_uri": "https://localhost:8080/"
        },
        "outputId": "5c3a065c-c0ab-4aad-f3d1-6da83598831e"
      },
      "execution_count": null,
      "outputs": [
        {
          "output_type": "stream",
          "name": "stdout",
          "text": [
            "+-----------------------------------------+------------+--------------------+-------------------+------------+------------------+---------+\n",
            "|show_title                               |highest_rank|No_of_weeks_in_top10|mean_weeks_in_top10|weeks_at_no1|mean_weeks_at_no1 |n_country|\n",
            "+-----------------------------------------+------------+--------------------+-------------------+------------+------------------+---------+\n",
            "|'76                                      |3           |2                   |1.5                |0           |0.0               |0        |\n",
            "|10 Cloverfield Lane                      |10          |1                   |1.0                |0           |0.0               |0        |\n",
            "|1000 Miles from Christmas                |2           |2                   |1.4230769230769231 |0           |0.0               |0        |\n",
            "|11M: Terror in Madrid                    |2           |2                   |1.5                |0           |0.0               |0        |\n",
            "|12 Gifts of Christmas                    |9           |1                   |1.0                |0           |0.0               |0        |\n",
            "|12 Strong                                |6           |3                   |1.5714285714285714 |0           |0.0               |0        |\n",
            "|13 Going on 30                           |7           |2                   |1.1428571428571428 |0           |0.0               |0        |\n",
            "|13 Hours: The Secret Soldiers of Benghazi|1           |3                   |1.706896551724138  |3           |1.706896551724138 |52       |\n",
            "|13 Minutes                               |1           |2                   |1.4                |2           |1.4               |3        |\n",
            "|14 Peaks: Nothing Is Impossible          |1           |4                   |1.3636363636363635 |4           |1.3636363636363635|45       |\n",
            "|1917                                     |2           |2                   |1.4                |0           |0.0               |0        |\n",
            "|2 Weeks in Lagos                         |1           |3                   |1.75               |3           |1.75              |2        |\n",
            "|200 Pounds Beauty                        |6           |1                   |1.0                |0           |0.0               |0        |\n",
            "|2012                                     |5           |1                   |1.0                |0           |0.0               |0        |\n",
            "|21                                       |7           |1                   |1.0                |0           |0.0               |0        |\n",
            "|21 Bridges                               |2           |2                   |1.3076923076923077 |0           |0.0               |0        |\n",
            "|21 Jump Street                           |3           |3                   |2.0                |0           |0.0               |0        |\n",
            "|211                                      |3           |1                   |1.0                |0           |0.0               |0        |\n",
            "|22 July                                  |4           |2                   |1.5                |0           |0.0               |0        |\n",
            "|3 Days to Kill                           |10          |1                   |1.0                |0           |0.0               |0        |\n",
            "+-----------------------------------------+------------+--------------------+-------------------+------------+------------------+---------+\n",
            "only showing top 20 rows\n",
            "\n"
          ]
        }
      ]
    }
  ]
}